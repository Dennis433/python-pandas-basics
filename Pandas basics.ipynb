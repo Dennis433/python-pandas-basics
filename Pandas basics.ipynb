{
 "cells": [
  {
   "cell_type": "code",
   "execution_count": 2,
   "id": "60d67fb5",
   "metadata": {},
   "outputs": [],
   "source": [
    "#creating a dictionary\n",
    "person = {\n",
    "    'first' : 'Nate',\n",
    "    'last'  : 'Furry',\n",
    "    'email' : 'dennisbija@gmail.com'\n",
    "}"
   ]
  },
  {
   "cell_type": "code",
   "execution_count": 3,
   "id": "bfd5fdf4",
   "metadata": {},
   "outputs": [],
   "source": [
    "person = {\n",
    "    'first' : ['Nate'],\n",
    "    'last'  : ['Furry'],\n",
    "    'email' : ['dennisbija@gmail.com'],\n",
    "}"
   ]
  },
  {
   "cell_type": "code",
   "execution_count": 4,
   "id": "e7ac213e",
   "metadata": {},
   "outputs": [],
   "source": [
    "#creating a list of friends with email\n",
    "people = {\n",
    "    'first' : ['Nate','Mike','Alfred'],\n",
    "    'last'  : ['Furry','Francis','Kiky'],\n",
    "    'email' : ['dennisbija@gmail.com','mikefrancis@gmail.com','alfredkiky@gmail.com']\n",
    "}"
   ]
  },
  {
   "cell_type": "code",
   "execution_count": 5,
   "id": "feb0cf09",
   "metadata": {},
   "outputs": [
    {
     "data": {
      "text/plain": [
       "['dennisbija@gmail.com', 'mikefrancis@gmail.com', 'alfredkiky@gmail.com']"
      ]
     },
     "execution_count": 5,
     "metadata": {},
     "output_type": "execute_result"
    }
   ],
   "source": [
    "#acessing all the email\n",
    "people['email']"
   ]
  },
  {
   "cell_type": "code",
   "execution_count": 6,
   "id": "376ec6b0",
   "metadata": {},
   "outputs": [],
   "source": [
    "# importing pandas library\n",
    "import pandas as pd"
   ]
  },
  {
   "cell_type": "code",
   "execution_count": 7,
   "id": "ed12ff6a",
   "metadata": {},
   "outputs": [],
   "source": [
    "#turning the dictionary to data frame\n",
    "df = pd.DataFrame(people)"
   ]
  },
  {
   "cell_type": "code",
   "execution_count": 8,
   "id": "250b06fe",
   "metadata": {},
   "outputs": [
    {
     "data": {
      "text/html": [
       "<div>\n",
       "<style scoped>\n",
       "    .dataframe tbody tr th:only-of-type {\n",
       "        vertical-align: middle;\n",
       "    }\n",
       "\n",
       "    .dataframe tbody tr th {\n",
       "        vertical-align: top;\n",
       "    }\n",
       "\n",
       "    .dataframe thead th {\n",
       "        text-align: right;\n",
       "    }\n",
       "</style>\n",
       "<table border=\"1\" class=\"dataframe\">\n",
       "  <thead>\n",
       "    <tr style=\"text-align: right;\">\n",
       "      <th></th>\n",
       "      <th>first</th>\n",
       "      <th>last</th>\n",
       "      <th>email</th>\n",
       "    </tr>\n",
       "  </thead>\n",
       "  <tbody>\n",
       "    <tr>\n",
       "      <th>0</th>\n",
       "      <td>Nate</td>\n",
       "      <td>Furry</td>\n",
       "      <td>dennisbija@gmail.com</td>\n",
       "    </tr>\n",
       "    <tr>\n",
       "      <th>1</th>\n",
       "      <td>Mike</td>\n",
       "      <td>Francis</td>\n",
       "      <td>mikefrancis@gmail.com</td>\n",
       "    </tr>\n",
       "    <tr>\n",
       "      <th>2</th>\n",
       "      <td>Alfred</td>\n",
       "      <td>Kiky</td>\n",
       "      <td>alfredkiky@gmail.com</td>\n",
       "    </tr>\n",
       "  </tbody>\n",
       "</table>\n",
       "</div>"
      ],
      "text/plain": [
       "    first     last                  email\n",
       "0    Nate    Furry   dennisbija@gmail.com\n",
       "1    Mike  Francis  mikefrancis@gmail.com\n",
       "2  Alfred     Kiky   alfredkiky@gmail.com"
      ]
     },
     "execution_count": 8,
     "metadata": {},
     "output_type": "execute_result"
    }
   ],
   "source": [
    "#calling the data frame\n",
    "df"
   ]
  },
  {
   "cell_type": "code",
   "execution_count": 9,
   "id": "8c067584",
   "metadata": {},
   "outputs": [
    {
     "data": {
      "text/plain": [
       "0     dennisbija@gmail.com\n",
       "1    mikefrancis@gmail.com\n",
       "2     alfredkiky@gmail.com\n",
       "Name: email, dtype: object"
      ]
     },
     "execution_count": 9,
     "metadata": {},
     "output_type": "execute_result"
    }
   ],
   "source": [
    "#acessing all the rows from the email column\n",
    "df['email']"
   ]
  },
  {
   "cell_type": "code",
   "execution_count": 10,
   "id": "04c5a20a",
   "metadata": {},
   "outputs": [
    {
     "data": {
      "text/plain": [
       "pandas.core.series.Series"
      ]
     },
     "execution_count": 10,
     "metadata": {},
     "output_type": "execute_result"
    }
   ],
   "source": [
    "#checking the specification of the email\n",
    "type(df['email'])"
   ]
  },
  {
   "cell_type": "code",
   "execution_count": 11,
   "id": "543dde52",
   "metadata": {},
   "outputs": [
    {
     "data": {
      "text/html": [
       "<div>\n",
       "<style scoped>\n",
       "    .dataframe tbody tr th:only-of-type {\n",
       "        vertical-align: middle;\n",
       "    }\n",
       "\n",
       "    .dataframe tbody tr th {\n",
       "        vertical-align: top;\n",
       "    }\n",
       "\n",
       "    .dataframe thead th {\n",
       "        text-align: right;\n",
       "    }\n",
       "</style>\n",
       "<table border=\"1\" class=\"dataframe\">\n",
       "  <thead>\n",
       "    <tr style=\"text-align: right;\">\n",
       "      <th></th>\n",
       "      <th>last</th>\n",
       "      <th>email</th>\n",
       "    </tr>\n",
       "  </thead>\n",
       "  <tbody>\n",
       "    <tr>\n",
       "      <th>0</th>\n",
       "      <td>Furry</td>\n",
       "      <td>dennisbija@gmail.com</td>\n",
       "    </tr>\n",
       "    <tr>\n",
       "      <th>1</th>\n",
       "      <td>Francis</td>\n",
       "      <td>mikefrancis@gmail.com</td>\n",
       "    </tr>\n",
       "    <tr>\n",
       "      <th>2</th>\n",
       "      <td>Kiky</td>\n",
       "      <td>alfredkiky@gmail.com</td>\n",
       "    </tr>\n",
       "  </tbody>\n",
       "</table>\n",
       "</div>"
      ],
      "text/plain": [
       "      last                  email\n",
       "0    Furry   dennisbija@gmail.com\n",
       "1  Francis  mikefrancis@gmail.com\n",
       "2     Kiky   alfredkiky@gmail.com"
      ]
     },
     "execution_count": 11,
     "metadata": {},
     "output_type": "execute_result"
    }
   ],
   "source": [
    "#using multiple square brackets to get the last and email column\n",
    "df[[\"last\", \"email\"]]"
   ]
  },
  {
   "cell_type": "code",
   "execution_count": 12,
   "id": "82f5a272",
   "metadata": {},
   "outputs": [
    {
     "data": {
      "text/plain": [
       "Index(['first', 'last', 'email'], dtype='object')"
      ]
     },
     "execution_count": 12,
     "metadata": {},
     "output_type": "execute_result"
    }
   ],
   "source": [
    "#getting a list of all the columns\n",
    "df.columns"
   ]
  },
  {
   "cell_type": "code",
   "execution_count": 13,
   "id": "6a410bdd",
   "metadata": {},
   "outputs": [
    {
     "data": {
      "text/plain": [
       "first                    Nate\n",
       "last                    Furry\n",
       "email    dennisbija@gmail.com\n",
       "Name: 0, dtype: object"
      ]
     },
     "execution_count": 13,
     "metadata": {},
     "output_type": "execute_result"
    }
   ],
   "source": [
    "#using the pandas built in iloc function to acess rows by integer location\n",
    "df.iloc[0]"
   ]
  },
  {
   "cell_type": "code",
   "execution_count": 14,
   "id": "69721008",
   "metadata": {},
   "outputs": [
    {
     "data": {
      "text/html": [
       "<div>\n",
       "<style scoped>\n",
       "    .dataframe tbody tr th:only-of-type {\n",
       "        vertical-align: middle;\n",
       "    }\n",
       "\n",
       "    .dataframe tbody tr th {\n",
       "        vertical-align: top;\n",
       "    }\n",
       "\n",
       "    .dataframe thead th {\n",
       "        text-align: right;\n",
       "    }\n",
       "</style>\n",
       "<table border=\"1\" class=\"dataframe\">\n",
       "  <thead>\n",
       "    <tr style=\"text-align: right;\">\n",
       "      <th></th>\n",
       "      <th>first</th>\n",
       "      <th>last</th>\n",
       "      <th>email</th>\n",
       "    </tr>\n",
       "  </thead>\n",
       "  <tbody>\n",
       "    <tr>\n",
       "      <th>0</th>\n",
       "      <td>Nate</td>\n",
       "      <td>Furry</td>\n",
       "      <td>dennisbija@gmail.com</td>\n",
       "    </tr>\n",
       "    <tr>\n",
       "      <th>1</th>\n",
       "      <td>Mike</td>\n",
       "      <td>Francis</td>\n",
       "      <td>mikefrancis@gmail.com</td>\n",
       "    </tr>\n",
       "    <tr>\n",
       "      <th>2</th>\n",
       "      <td>Alfred</td>\n",
       "      <td>Kiky</td>\n",
       "      <td>alfredkiky@gmail.com</td>\n",
       "    </tr>\n",
       "  </tbody>\n",
       "</table>\n",
       "</div>"
      ],
      "text/plain": [
       "    first     last                  email\n",
       "0    Nate    Furry   dennisbija@gmail.com\n",
       "1    Mike  Francis  mikefrancis@gmail.com\n",
       "2  Alfred     Kiky   alfredkiky@gmail.com"
      ]
     },
     "execution_count": 14,
     "metadata": {},
     "output_type": "execute_result"
    }
   ],
   "source": [
    "df"
   ]
  },
  {
   "cell_type": "code",
   "execution_count": 15,
   "id": "fc6e83e0",
   "metadata": {},
   "outputs": [
    {
     "data": {
      "text/plain": [
       "first                    Nate\n",
       "last                    Furry\n",
       "email    dennisbija@gmail.com\n",
       "Name: 0, dtype: object"
      ]
     },
     "execution_count": 15,
     "metadata": {},
     "output_type": "execute_result"
    }
   ],
   "source": [
    "#Used to acess specific rows\n",
    "df.loc[0]"
   ]
  },
  {
   "cell_type": "code",
   "execution_count": 16,
   "id": "fec5a8ee",
   "metadata": {},
   "outputs": [
    {
     "data": {
      "text/plain": [
       "0     dennisbija@gmail.com\n",
       "1    mikefrancis@gmail.com\n",
       "2     alfredkiky@gmail.com\n",
       "Name: email, dtype: object"
      ]
     },
     "execution_count": 16,
     "metadata": {},
     "output_type": "execute_result"
    }
   ],
   "source": [
    "#using square bracket to get all the rows under the email column\n",
    "df['email']"
   ]
  },
  {
   "cell_type": "code",
   "execution_count": 17,
   "id": "22581417",
   "metadata": {},
   "outputs": [],
   "source": [
    "#using the pandas built in set_index function to reset the index number and the implace=True to make the change permanently\n",
    "df.set_index(\"email\",inplace=True)"
   ]
  },
  {
   "cell_type": "code",
   "execution_count": 18,
   "id": "d1ac95c5",
   "metadata": {},
   "outputs": [
    {
     "data": {
      "text/plain": [
       "first     Nate\n",
       "last     Furry\n",
       "Name: dennisbija@gmail.com, dtype: object"
      ]
     },
     "execution_count": 18,
     "metadata": {},
     "output_type": "execute_result"
    }
   ],
   "source": [
    "#using the loc function to acess data under a specific email adress\n",
    "df.loc[\"dennisbija@gmail.com\"]"
   ]
  },
  {
   "cell_type": "code",
   "execution_count": 19,
   "id": "dcc015d3",
   "metadata": {},
   "outputs": [
    {
     "data": {
      "text/plain": [
       "first     Nate\n",
       "last     Furry\n",
       "Name: dennisbija@gmail.com, dtype: object"
      ]
     },
     "execution_count": 19,
     "metadata": {},
     "output_type": "execute_result"
    }
   ],
   "source": [
    "#using the loc function to acess data under a specific email adress\n",
    "df.iloc[0]"
   ]
  },
  {
   "cell_type": "code",
   "execution_count": 20,
   "id": "94564623",
   "metadata": {},
   "outputs": [],
   "source": [
    "#reseting the index back to the defult one\n",
    "df.reset_index(inplace=True)"
   ]
  },
  {
   "cell_type": "code",
   "execution_count": 21,
   "id": "edb985db",
   "metadata": {},
   "outputs": [
    {
     "data": {
      "text/html": [
       "<div>\n",
       "<style scoped>\n",
       "    .dataframe tbody tr th:only-of-type {\n",
       "        vertical-align: middle;\n",
       "    }\n",
       "\n",
       "    .dataframe tbody tr th {\n",
       "        vertical-align: top;\n",
       "    }\n",
       "\n",
       "    .dataframe thead th {\n",
       "        text-align: right;\n",
       "    }\n",
       "</style>\n",
       "<table border=\"1\" class=\"dataframe\">\n",
       "  <thead>\n",
       "    <tr style=\"text-align: right;\">\n",
       "      <th></th>\n",
       "      <th>email</th>\n",
       "      <th>first</th>\n",
       "      <th>last</th>\n",
       "    </tr>\n",
       "  </thead>\n",
       "  <tbody>\n",
       "    <tr>\n",
       "      <th>0</th>\n",
       "      <td>dennisbija@gmail.com</td>\n",
       "      <td>Nate</td>\n",
       "      <td>Furry</td>\n",
       "    </tr>\n",
       "    <tr>\n",
       "      <th>1</th>\n",
       "      <td>mikefrancis@gmail.com</td>\n",
       "      <td>Mike</td>\n",
       "      <td>Francis</td>\n",
       "    </tr>\n",
       "    <tr>\n",
       "      <th>2</th>\n",
       "      <td>alfredkiky@gmail.com</td>\n",
       "      <td>Alfred</td>\n",
       "      <td>Kiky</td>\n",
       "    </tr>\n",
       "  </tbody>\n",
       "</table>\n",
       "</div>"
      ],
      "text/plain": [
       "                   email   first     last\n",
       "0   dennisbija@gmail.com    Nate    Furry\n",
       "1  mikefrancis@gmail.com    Mike  Francis\n",
       "2   alfredkiky@gmail.com  Alfred     Kiky"
      ]
     },
     "execution_count": 21,
     "metadata": {},
     "output_type": "execute_result"
    }
   ],
   "source": [
    "df"
   ]
  },
  {
   "cell_type": "code",
   "execution_count": 22,
   "id": "cd420f3c",
   "metadata": {},
   "outputs": [
    {
     "data": {
      "text/html": [
       "<div>\n",
       "<style scoped>\n",
       "    .dataframe tbody tr th:only-of-type {\n",
       "        vertical-align: middle;\n",
       "    }\n",
       "\n",
       "    .dataframe tbody tr th {\n",
       "        vertical-align: top;\n",
       "    }\n",
       "\n",
       "    .dataframe thead th {\n",
       "        text-align: right;\n",
       "    }\n",
       "</style>\n",
       "<table border=\"1\" class=\"dataframe\">\n",
       "  <thead>\n",
       "    <tr style=\"text-align: right;\">\n",
       "      <th></th>\n",
       "      <th>email</th>\n",
       "      <th>first</th>\n",
       "    </tr>\n",
       "  </thead>\n",
       "  <tbody>\n",
       "    <tr>\n",
       "      <th>0</th>\n",
       "      <td>dennisbija@gmail.com</td>\n",
       "      <td>Nate</td>\n",
       "    </tr>\n",
       "    <tr>\n",
       "      <th>1</th>\n",
       "      <td>mikefrancis@gmail.com</td>\n",
       "      <td>Mike</td>\n",
       "    </tr>\n",
       "    <tr>\n",
       "      <th>2</th>\n",
       "      <td>alfredkiky@gmail.com</td>\n",
       "      <td>Alfred</td>\n",
       "    </tr>\n",
       "  </tbody>\n",
       "</table>\n",
       "</div>"
      ],
      "text/plain": [
       "                   email   first\n",
       "0   dennisbija@gmail.com    Nate\n",
       "1  mikefrancis@gmail.com    Mike\n",
       "2   alfredkiky@gmail.com  Alfred"
      ]
     },
     "execution_count": 22,
     "metadata": {},
     "output_type": "execute_result"
    }
   ],
   "source": [
    "#acessing a specific row and columns\n",
    "df.loc[0:2,'email':\"first\"]"
   ]
  },
  {
   "cell_type": "code",
   "execution_count": 23,
   "id": "72a6e660",
   "metadata": {},
   "outputs": [],
   "source": [
    "#creating a variable and use it to filter out names with that last name and starting with that first name\n",
    "filt = (df['last'] == 'Furry') | (df['first']=='Mike')"
   ]
  },
  {
   "cell_type": "code",
   "execution_count": 24,
   "id": "beec68fd",
   "metadata": {},
   "outputs": [
    {
     "data": {
      "text/html": [
       "<div>\n",
       "<style scoped>\n",
       "    .dataframe tbody tr th:only-of-type {\n",
       "        vertical-align: middle;\n",
       "    }\n",
       "\n",
       "    .dataframe tbody tr th {\n",
       "        vertical-align: top;\n",
       "    }\n",
       "\n",
       "    .dataframe thead th {\n",
       "        text-align: right;\n",
       "    }\n",
       "</style>\n",
       "<table border=\"1\" class=\"dataframe\">\n",
       "  <thead>\n",
       "    <tr style=\"text-align: right;\">\n",
       "      <th></th>\n",
       "      <th>email</th>\n",
       "      <th>first</th>\n",
       "      <th>last</th>\n",
       "    </tr>\n",
       "  </thead>\n",
       "  <tbody>\n",
       "    <tr>\n",
       "      <th>0</th>\n",
       "      <td>dennisbija@gmail.com</td>\n",
       "      <td>Nate</td>\n",
       "      <td>Furry</td>\n",
       "    </tr>\n",
       "    <tr>\n",
       "      <th>1</th>\n",
       "      <td>mikefrancis@gmail.com</td>\n",
       "      <td>Mike</td>\n",
       "      <td>Francis</td>\n",
       "    </tr>\n",
       "  </tbody>\n",
       "</table>\n",
       "</div>"
      ],
      "text/plain": [
       "                   email first     last\n",
       "0   dennisbija@gmail.com  Nate    Furry\n",
       "1  mikefrancis@gmail.com  Mike  Francis"
      ]
     },
     "execution_count": 24,
     "metadata": {},
     "output_type": "execute_result"
    }
   ],
   "source": [
    "#using th loc function to acess the filter variable\n",
    "df.loc[filt]"
   ]
  },
  {
   "cell_type": "code",
   "execution_count": 25,
   "id": "1732a483",
   "metadata": {},
   "outputs": [
    {
     "data": {
      "text/html": [
       "<div>\n",
       "<style scoped>\n",
       "    .dataframe tbody tr th:only-of-type {\n",
       "        vertical-align: middle;\n",
       "    }\n",
       "\n",
       "    .dataframe tbody tr th {\n",
       "        vertical-align: top;\n",
       "    }\n",
       "\n",
       "    .dataframe thead th {\n",
       "        text-align: right;\n",
       "    }\n",
       "</style>\n",
       "<table border=\"1\" class=\"dataframe\">\n",
       "  <thead>\n",
       "    <tr style=\"text-align: right;\">\n",
       "      <th></th>\n",
       "      <th>email</th>\n",
       "      <th>first</th>\n",
       "    </tr>\n",
       "  </thead>\n",
       "  <tbody>\n",
       "    <tr>\n",
       "      <th>0</th>\n",
       "      <td>dennisbija@gmail.com</td>\n",
       "      <td>Nate</td>\n",
       "    </tr>\n",
       "    <tr>\n",
       "      <th>1</th>\n",
       "      <td>mikefrancis@gmail.com</td>\n",
       "      <td>Mike</td>\n",
       "    </tr>\n",
       "    <tr>\n",
       "      <th>2</th>\n",
       "      <td>alfredkiky@gmail.com</td>\n",
       "      <td>Alfred</td>\n",
       "    </tr>\n",
       "  </tbody>\n",
       "</table>\n",
       "</div>"
      ],
      "text/plain": [
       "                   email   first\n",
       "0   dennisbija@gmail.com    Nate\n",
       "1  mikefrancis@gmail.com    Mike\n",
       "2   alfredkiky@gmail.com  Alfred"
      ]
     },
     "execution_count": 25,
     "metadata": {},
     "output_type": "execute_result"
    }
   ],
   "source": [
    "#acessing a range of rows and coulmns\n",
    "df.loc[0:2, 'email':'first']"
   ]
  },
  {
   "cell_type": "code",
   "execution_count": 26,
   "id": "12021f4c",
   "metadata": {},
   "outputs": [
    {
     "data": {
      "text/plain": [
       "Index(['email', 'first', 'last'], dtype='object')"
      ]
     },
     "execution_count": 26,
     "metadata": {},
     "output_type": "execute_result"
    }
   ],
   "source": [
    "df.columns"
   ]
  },
  {
   "cell_type": "code",
   "execution_count": 27,
   "id": "c53d31cb",
   "metadata": {},
   "outputs": [],
   "source": [
    "#creating a list of columns and assigning it to a variable to update the coulmns\n",
    "df.columns = ['email_adress', 'first_name','last_name']"
   ]
  },
  {
   "cell_type": "code",
   "execution_count": 28,
   "id": "d704b3c9",
   "metadata": {},
   "outputs": [
    {
     "data": {
      "text/html": [
       "<div>\n",
       "<style scoped>\n",
       "    .dataframe tbody tr th:only-of-type {\n",
       "        vertical-align: middle;\n",
       "    }\n",
       "\n",
       "    .dataframe tbody tr th {\n",
       "        vertical-align: top;\n",
       "    }\n",
       "\n",
       "    .dataframe thead th {\n",
       "        text-align: right;\n",
       "    }\n",
       "</style>\n",
       "<table border=\"1\" class=\"dataframe\">\n",
       "  <thead>\n",
       "    <tr style=\"text-align: right;\">\n",
       "      <th></th>\n",
       "      <th>email_adress</th>\n",
       "      <th>first_name</th>\n",
       "      <th>last_name</th>\n",
       "    </tr>\n",
       "  </thead>\n",
       "  <tbody>\n",
       "    <tr>\n",
       "      <th>0</th>\n",
       "      <td>dennisbija@gmail.com</td>\n",
       "      <td>Nate</td>\n",
       "      <td>Furry</td>\n",
       "    </tr>\n",
       "    <tr>\n",
       "      <th>1</th>\n",
       "      <td>mikefrancis@gmail.com</td>\n",
       "      <td>Mike</td>\n",
       "      <td>Francis</td>\n",
       "    </tr>\n",
       "    <tr>\n",
       "      <th>2</th>\n",
       "      <td>alfredkiky@gmail.com</td>\n",
       "      <td>Alfred</td>\n",
       "      <td>Kiky</td>\n",
       "    </tr>\n",
       "  </tbody>\n",
       "</table>\n",
       "</div>"
      ],
      "text/plain": [
       "            email_adress first_name last_name\n",
       "0   dennisbija@gmail.com       Nate     Furry\n",
       "1  mikefrancis@gmail.com       Mike   Francis\n",
       "2   alfredkiky@gmail.com     Alfred      Kiky"
      ]
     },
     "execution_count": 28,
     "metadata": {},
     "output_type": "execute_result"
    }
   ],
   "source": [
    "df"
   ]
  },
  {
   "cell_type": "code",
   "execution_count": 29,
   "id": "93fef451",
   "metadata": {},
   "outputs": [
    {
     "data": {
      "text/html": [
       "<div>\n",
       "<style scoped>\n",
       "    .dataframe tbody tr th:only-of-type {\n",
       "        vertical-align: middle;\n",
       "    }\n",
       "\n",
       "    .dataframe tbody tr th {\n",
       "        vertical-align: top;\n",
       "    }\n",
       "\n",
       "    .dataframe thead th {\n",
       "        text-align: right;\n",
       "    }\n",
       "</style>\n",
       "<table border=\"1\" class=\"dataframe\">\n",
       "  <thead>\n",
       "    <tr style=\"text-align: right;\">\n",
       "      <th></th>\n",
       "      <th>EMAIL_ADRESS</th>\n",
       "      <th>FIRST_NAME</th>\n",
       "      <th>LAST_NAME</th>\n",
       "    </tr>\n",
       "  </thead>\n",
       "  <tbody>\n",
       "    <tr>\n",
       "      <th>0</th>\n",
       "      <td>dennisbija@gmail.com</td>\n",
       "      <td>Nate</td>\n",
       "      <td>Furry</td>\n",
       "    </tr>\n",
       "    <tr>\n",
       "      <th>1</th>\n",
       "      <td>mikefrancis@gmail.com</td>\n",
       "      <td>Mike</td>\n",
       "      <td>Francis</td>\n",
       "    </tr>\n",
       "    <tr>\n",
       "      <th>2</th>\n",
       "      <td>alfredkiky@gmail.com</td>\n",
       "      <td>Alfred</td>\n",
       "      <td>Kiky</td>\n",
       "    </tr>\n",
       "  </tbody>\n",
       "</table>\n",
       "</div>"
      ],
      "text/plain": [
       "            EMAIL_ADRESS FIRST_NAME LAST_NAME\n",
       "0   dennisbija@gmail.com       Nate     Furry\n",
       "1  mikefrancis@gmail.com       Mike   Francis\n",
       "2   alfredkiky@gmail.com     Alfred      Kiky"
      ]
     },
     "execution_count": 29,
     "metadata": {},
     "output_type": "execute_result"
    }
   ],
   "source": [
    "#using list comprehension to turn the columns to upper case\n",
    "df.columns = [x.upper()for x in df.columns] \n",
    "df"
   ]
  },
  {
   "cell_type": "code",
   "execution_count": 30,
   "id": "21368c91",
   "metadata": {},
   "outputs": [
    {
     "data": {
      "text/html": [
       "<div>\n",
       "<style scoped>\n",
       "    .dataframe tbody tr th:only-of-type {\n",
       "        vertical-align: middle;\n",
       "    }\n",
       "\n",
       "    .dataframe tbody tr th {\n",
       "        vertical-align: top;\n",
       "    }\n",
       "\n",
       "    .dataframe thead th {\n",
       "        text-align: right;\n",
       "    }\n",
       "</style>\n",
       "<table border=\"1\" class=\"dataframe\">\n",
       "  <thead>\n",
       "    <tr style=\"text-align: right;\">\n",
       "      <th></th>\n",
       "      <th>EMAIL_ADRESS</th>\n",
       "      <th>FIRST_NAME</th>\n",
       "      <th>LAST_NAME</th>\n",
       "    </tr>\n",
       "  </thead>\n",
       "  <tbody>\n",
       "    <tr>\n",
       "      <th>0</th>\n",
       "      <td>dennisbija@gmail.com</td>\n",
       "      <td>Nate</td>\n",
       "      <td>Furry</td>\n",
       "    </tr>\n",
       "    <tr>\n",
       "      <th>1</th>\n",
       "      <td>mikefrancis@gmail.com</td>\n",
       "      <td>Mike</td>\n",
       "      <td>Francis</td>\n",
       "    </tr>\n",
       "    <tr>\n",
       "      <th>2</th>\n",
       "      <td>alfredkiky@gmail.com</td>\n",
       "      <td>Alfred</td>\n",
       "      <td>Kiky</td>\n",
       "    </tr>\n",
       "  </tbody>\n",
       "</table>\n",
       "</div>"
      ],
      "text/plain": [
       "            EMAIL_ADRESS FIRST_NAME LAST_NAME\n",
       "0   dennisbija@gmail.com       Nate     Furry\n",
       "1  mikefrancis@gmail.com       Mike   Francis\n",
       "2   alfredkiky@gmail.com     Alfred      Kiky"
      ]
     },
     "execution_count": 30,
     "metadata": {},
     "output_type": "execute_result"
    }
   ],
   "source": [
    "#using the string method to edit columns\n",
    "df.columns = df.columns.str.replace(' ','_')\n",
    "df"
   ]
  },
  {
   "cell_type": "code",
   "execution_count": 31,
   "id": "ad5e6a13",
   "metadata": {},
   "outputs": [],
   "source": [
    "#using the remane function in pandas to remane specific columns\n",
    "df.rename(columns={'FIRST_NAME' : 'First', 'LAST_NAME' : 'Last'}, inplace=True)"
   ]
  },
  {
   "cell_type": "code",
   "execution_count": 32,
   "id": "8d213dc9",
   "metadata": {},
   "outputs": [
    {
     "data": {
      "text/html": [
       "<div>\n",
       "<style scoped>\n",
       "    .dataframe tbody tr th:only-of-type {\n",
       "        vertical-align: middle;\n",
       "    }\n",
       "\n",
       "    .dataframe tbody tr th {\n",
       "        vertical-align: top;\n",
       "    }\n",
       "\n",
       "    .dataframe thead th {\n",
       "        text-align: right;\n",
       "    }\n",
       "</style>\n",
       "<table border=\"1\" class=\"dataframe\">\n",
       "  <thead>\n",
       "    <tr style=\"text-align: right;\">\n",
       "      <th></th>\n",
       "      <th>EMAIL_ADRESS</th>\n",
       "      <th>First</th>\n",
       "      <th>Last</th>\n",
       "    </tr>\n",
       "  </thead>\n",
       "  <tbody>\n",
       "    <tr>\n",
       "      <th>0</th>\n",
       "      <td>dennisbija@gmail.com</td>\n",
       "      <td>Nate</td>\n",
       "      <td>Furry</td>\n",
       "    </tr>\n",
       "    <tr>\n",
       "      <th>1</th>\n",
       "      <td>mikefrancis@gmail.com</td>\n",
       "      <td>Mike</td>\n",
       "      <td>Francis</td>\n",
       "    </tr>\n",
       "    <tr>\n",
       "      <th>2</th>\n",
       "      <td>alfredkiky@gmail.com</td>\n",
       "      <td>Alfred</td>\n",
       "      <td>Kiky</td>\n",
       "    </tr>\n",
       "  </tbody>\n",
       "</table>\n",
       "</div>"
      ],
      "text/plain": [
       "            EMAIL_ADRESS   First     Last\n",
       "0   dennisbija@gmail.com    Nate    Furry\n",
       "1  mikefrancis@gmail.com    Mike  Francis\n",
       "2   alfredkiky@gmail.com  Alfred     Kiky"
      ]
     },
     "execution_count": 32,
     "metadata": {},
     "output_type": "execute_result"
    }
   ],
   "source": [
    "df"
   ]
  },
  {
   "cell_type": "code",
   "execution_count": 33,
   "id": "61e732e9",
   "metadata": {},
   "outputs": [],
   "source": [
    "#using the remane function in pandas to remane specific columns\n",
    "df.rename(columns={'FIRST_NAME' : 'First', 'LAST_NAME' : 'Last'}, inplace=True)"
   ]
  },
  {
   "cell_type": "code",
   "execution_count": 34,
   "id": "27429b1f",
   "metadata": {},
   "outputs": [
    {
     "data": {
      "text/html": [
       "<div>\n",
       "<style scoped>\n",
       "    .dataframe tbody tr th:only-of-type {\n",
       "        vertical-align: middle;\n",
       "    }\n",
       "\n",
       "    .dataframe tbody tr th {\n",
       "        vertical-align: top;\n",
       "    }\n",
       "\n",
       "    .dataframe thead th {\n",
       "        text-align: right;\n",
       "    }\n",
       "</style>\n",
       "<table border=\"1\" class=\"dataframe\">\n",
       "  <thead>\n",
       "    <tr style=\"text-align: right;\">\n",
       "      <th></th>\n",
       "      <th>EMAIL_ADRESS</th>\n",
       "      <th>First</th>\n",
       "      <th>Last</th>\n",
       "    </tr>\n",
       "  </thead>\n",
       "  <tbody>\n",
       "    <tr>\n",
       "      <th>0</th>\n",
       "      <td>dennisbija@gmail.com</td>\n",
       "      <td>Nate</td>\n",
       "      <td>Furry</td>\n",
       "    </tr>\n",
       "    <tr>\n",
       "      <th>1</th>\n",
       "      <td>mikefrancis@gmail.com</td>\n",
       "      <td>Mike</td>\n",
       "      <td>Francis</td>\n",
       "    </tr>\n",
       "    <tr>\n",
       "      <th>2</th>\n",
       "      <td>alfredkiky@gmail.com</td>\n",
       "      <td>Alfred</td>\n",
       "      <td>Kiky</td>\n",
       "    </tr>\n",
       "  </tbody>\n",
       "</table>\n",
       "</div>"
      ],
      "text/plain": [
       "            EMAIL_ADRESS   First     Last\n",
       "0   dennisbija@gmail.com    Nate    Furry\n",
       "1  mikefrancis@gmail.com    Mike  Francis\n",
       "2   alfredkiky@gmail.com  Alfred     Kiky"
      ]
     },
     "execution_count": 34,
     "metadata": {},
     "output_type": "execute_result"
    }
   ],
   "source": [
    "df"
   ]
  },
  {
   "cell_type": "code",
   "execution_count": 35,
   "id": "1b17cca7",
   "metadata": {},
   "outputs": [],
   "source": [
    "df.rename(columns={'LAST':'Last'}, inplace = True)"
   ]
  },
  {
   "cell_type": "code",
   "execution_count": 36,
   "id": "f944cbd7",
   "metadata": {},
   "outputs": [
    {
     "data": {
      "text/html": [
       "<div>\n",
       "<style scoped>\n",
       "    .dataframe tbody tr th:only-of-type {\n",
       "        vertical-align: middle;\n",
       "    }\n",
       "\n",
       "    .dataframe tbody tr th {\n",
       "        vertical-align: top;\n",
       "    }\n",
       "\n",
       "    .dataframe thead th {\n",
       "        text-align: right;\n",
       "    }\n",
       "</style>\n",
       "<table border=\"1\" class=\"dataframe\">\n",
       "  <thead>\n",
       "    <tr style=\"text-align: right;\">\n",
       "      <th></th>\n",
       "      <th>EMAIL_ADRESS</th>\n",
       "      <th>First</th>\n",
       "      <th>Last</th>\n",
       "    </tr>\n",
       "  </thead>\n",
       "  <tbody>\n",
       "    <tr>\n",
       "      <th>0</th>\n",
       "      <td>dennisbija@gmail.com</td>\n",
       "      <td>Nate</td>\n",
       "      <td>Furry</td>\n",
       "    </tr>\n",
       "    <tr>\n",
       "      <th>1</th>\n",
       "      <td>mikefrancis@gmail.com</td>\n",
       "      <td>Mike</td>\n",
       "      <td>Francis</td>\n",
       "    </tr>\n",
       "    <tr>\n",
       "      <th>2</th>\n",
       "      <td>alfredkiky@gmail.com</td>\n",
       "      <td>Alfred</td>\n",
       "      <td>Kiky</td>\n",
       "    </tr>\n",
       "  </tbody>\n",
       "</table>\n",
       "</div>"
      ],
      "text/plain": [
       "            EMAIL_ADRESS   First     Last\n",
       "0   dennisbija@gmail.com    Nate    Furry\n",
       "1  mikefrancis@gmail.com    Mike  Francis\n",
       "2   alfredkiky@gmail.com  Alfred     Kiky"
      ]
     },
     "execution_count": 36,
     "metadata": {},
     "output_type": "execute_result"
    }
   ],
   "source": [
    "df"
   ]
  },
  {
   "cell_type": "code",
   "execution_count": 37,
   "id": "e571ae6b",
   "metadata": {},
   "outputs": [],
   "source": [
    "#renaming a specific column  by using lists\n",
    "df.loc[2] = ['alfredjagaba@gmail.com','Afred','Jagaba']"
   ]
  },
  {
   "cell_type": "code",
   "execution_count": 38,
   "id": "dcadd137",
   "metadata": {},
   "outputs": [],
   "source": [
    "#renaming a specific column  using lists\n",
    "df.loc[2, ['Last', 'EMAIL_ADRESS']] = ['Kiky', 'alfredkiky@gmail.com']"
   ]
  },
  {
   "cell_type": "code",
   "execution_count": 39,
   "id": "8301043e",
   "metadata": {},
   "outputs": [
    {
     "data": {
      "text/html": [
       "<div>\n",
       "<style scoped>\n",
       "    .dataframe tbody tr th:only-of-type {\n",
       "        vertical-align: middle;\n",
       "    }\n",
       "\n",
       "    .dataframe tbody tr th {\n",
       "        vertical-align: top;\n",
       "    }\n",
       "\n",
       "    .dataframe thead th {\n",
       "        text-align: right;\n",
       "    }\n",
       "</style>\n",
       "<table border=\"1\" class=\"dataframe\">\n",
       "  <thead>\n",
       "    <tr style=\"text-align: right;\">\n",
       "      <th></th>\n",
       "      <th>EMAIL_ADRESS</th>\n",
       "      <th>First</th>\n",
       "      <th>Last</th>\n",
       "    </tr>\n",
       "  </thead>\n",
       "  <tbody>\n",
       "    <tr>\n",
       "      <th>0</th>\n",
       "      <td>dennisbija@gmail.com</td>\n",
       "      <td>Nate</td>\n",
       "      <td>Furry</td>\n",
       "    </tr>\n",
       "    <tr>\n",
       "      <th>1</th>\n",
       "      <td>mikefrancis@gmail.com</td>\n",
       "      <td>Mike</td>\n",
       "      <td>Francis</td>\n",
       "    </tr>\n",
       "    <tr>\n",
       "      <th>2</th>\n",
       "      <td>alfredkiky@gmail.com</td>\n",
       "      <td>Afred</td>\n",
       "      <td>Kiky</td>\n",
       "    </tr>\n",
       "  </tbody>\n",
       "</table>\n",
       "</div>"
      ],
      "text/plain": [
       "            EMAIL_ADRESS  First     Last\n",
       "0   dennisbija@gmail.com   Nate    Furry\n",
       "1  mikefrancis@gmail.com   Mike  Francis\n",
       "2   alfredkiky@gmail.com  Afred     Kiky"
      ]
     },
     "execution_count": 39,
     "metadata": {},
     "output_type": "execute_result"
    }
   ],
   "source": [
    "df"
   ]
  },
  {
   "cell_type": "code",
   "execution_count": 40,
   "id": "9bba8172",
   "metadata": {},
   "outputs": [],
   "source": [
    "#changing a specific row without using a list\n",
    "df.loc[2, 'Last'] = 'Jagaba'"
   ]
  },
  {
   "cell_type": "code",
   "execution_count": 41,
   "id": "c363f828",
   "metadata": {},
   "outputs": [
    {
     "data": {
      "text/html": [
       "<div>\n",
       "<style scoped>\n",
       "    .dataframe tbody tr th:only-of-type {\n",
       "        vertical-align: middle;\n",
       "    }\n",
       "\n",
       "    .dataframe tbody tr th {\n",
       "        vertical-align: top;\n",
       "    }\n",
       "\n",
       "    .dataframe thead th {\n",
       "        text-align: right;\n",
       "    }\n",
       "</style>\n",
       "<table border=\"1\" class=\"dataframe\">\n",
       "  <thead>\n",
       "    <tr style=\"text-align: right;\">\n",
       "      <th></th>\n",
       "      <th>EMAIL_ADRESS</th>\n",
       "      <th>First</th>\n",
       "      <th>Last</th>\n",
       "    </tr>\n",
       "  </thead>\n",
       "  <tbody>\n",
       "    <tr>\n",
       "      <th>0</th>\n",
       "      <td>dennisbija@gmail.com</td>\n",
       "      <td>Nate</td>\n",
       "      <td>Furry</td>\n",
       "    </tr>\n",
       "    <tr>\n",
       "      <th>1</th>\n",
       "      <td>mikefrancis@gmail.com</td>\n",
       "      <td>Mike</td>\n",
       "      <td>Francis</td>\n",
       "    </tr>\n",
       "    <tr>\n",
       "      <th>2</th>\n",
       "      <td>alfredkiky@gmail.com</td>\n",
       "      <td>Afred</td>\n",
       "      <td>Jagaba</td>\n",
       "    </tr>\n",
       "  </tbody>\n",
       "</table>\n",
       "</div>"
      ],
      "text/plain": [
       "            EMAIL_ADRESS  First     Last\n",
       "0   dennisbija@gmail.com   Nate    Furry\n",
       "1  mikefrancis@gmail.com   Mike  Francis\n",
       "2   alfredkiky@gmail.com  Afred   Jagaba"
      ]
     },
     "execution_count": 41,
     "metadata": {},
     "output_type": "execute_result"
    }
   ],
   "source": [
    "df"
   ]
  },
  {
   "cell_type": "code",
   "execution_count": 42,
   "id": "28296635",
   "metadata": {},
   "outputs": [],
   "source": [
    "#changing a specific row without using a list and using the at function\n",
    "df.at[2, 'Last'] = 'Kiky'"
   ]
  },
  {
   "cell_type": "code",
   "execution_count": 43,
   "id": "96c28e31",
   "metadata": {},
   "outputs": [
    {
     "data": {
      "text/plain": [
       "2    Kiky\n",
       "Name: Last, dtype: object"
      ]
     },
     "execution_count": 43,
     "metadata": {},
     "output_type": "execute_result"
    }
   ],
   "source": [
    "#using filter to get th column we want\n",
    "filt = (df['EMAIL_ADRESS'] == 'alfredkiky@gmail.com' )\n",
    "df[filt]['Last']"
   ]
  },
  {
   "cell_type": "code",
   "execution_count": 44,
   "id": "32a4acc5",
   "metadata": {},
   "outputs": [],
   "source": [
    "#using filter and loc to chage a name\n",
    "filt = (df['EMAIL_ADRESS'] == 'alfredkiky@gmail.com' )\n",
    "df.loc[filt, 'Last'] = 'Jagaba'"
   ]
  },
  {
   "cell_type": "code",
   "execution_count": 45,
   "id": "7720e552",
   "metadata": {},
   "outputs": [],
   "source": [
    "#using the str.upper method to change rows to uppercase\n",
    "df['EMAIL_ADRESS'] = df['EMAIL_ADRESS'].str.upper()"
   ]
  },
  {
   "cell_type": "code",
   "execution_count": 46,
   "id": "f04dc415",
   "metadata": {},
   "outputs": [],
   "source": [
    "#using the str.lower() method to change rows to lowercase\n",
    "df['EMAIL_ADRESS'] = df['EMAIL_ADRESS'].str.lower()"
   ]
  },
  {
   "cell_type": "code",
   "execution_count": 47,
   "id": "885a0f71",
   "metadata": {},
   "outputs": [
    {
     "data": {
      "text/html": [
       "<div>\n",
       "<style scoped>\n",
       "    .dataframe tbody tr th:only-of-type {\n",
       "        vertical-align: middle;\n",
       "    }\n",
       "\n",
       "    .dataframe tbody tr th {\n",
       "        vertical-align: top;\n",
       "    }\n",
       "\n",
       "    .dataframe thead th {\n",
       "        text-align: right;\n",
       "    }\n",
       "</style>\n",
       "<table border=\"1\" class=\"dataframe\">\n",
       "  <thead>\n",
       "    <tr style=\"text-align: right;\">\n",
       "      <th></th>\n",
       "      <th>EMAIL_ADRESS</th>\n",
       "      <th>First</th>\n",
       "      <th>Last</th>\n",
       "    </tr>\n",
       "  </thead>\n",
       "  <tbody>\n",
       "    <tr>\n",
       "      <th>0</th>\n",
       "      <td>dennisbija@gmail.com</td>\n",
       "      <td>Nate</td>\n",
       "      <td>Furry</td>\n",
       "    </tr>\n",
       "    <tr>\n",
       "      <th>1</th>\n",
       "      <td>mikefrancis@gmail.com</td>\n",
       "      <td>Mike</td>\n",
       "      <td>Francis</td>\n",
       "    </tr>\n",
       "    <tr>\n",
       "      <th>2</th>\n",
       "      <td>alfredkiky@gmail.com</td>\n",
       "      <td>Afred</td>\n",
       "      <td>Jagaba</td>\n",
       "    </tr>\n",
       "  </tbody>\n",
       "</table>\n",
       "</div>"
      ],
      "text/plain": [
       "            EMAIL_ADRESS  First     Last\n",
       "0   dennisbija@gmail.com   Nate    Furry\n",
       "1  mikefrancis@gmail.com   Mike  Francis\n",
       "2   alfredkiky@gmail.com  Afred   Jagaba"
      ]
     },
     "execution_count": 47,
     "metadata": {},
     "output_type": "execute_result"
    }
   ],
   "source": [
    "df"
   ]
  },
  {
   "cell_type": "code",
   "execution_count": 48,
   "id": "8968a27a",
   "metadata": {},
   "outputs": [
    {
     "data": {
      "text/plain": [
       "0    20\n",
       "1    21\n",
       "2    20\n",
       "Name: EMAIL_ADRESS, dtype: int64"
      ]
     },
     "execution_count": 48,
     "metadata": {},
     "output_type": "execute_result"
    }
   ],
   "source": [
    "#using the pandas built in.apply() to call the len function\n",
    "#the .apply is used to call an already made function we see that in the next example\n",
    "df['EMAIL_ADRESS'].apply(len)"
   ]
  },
  {
   "cell_type": "code",
   "execution_count": 49,
   "id": "b21b3e77",
   "metadata": {},
   "outputs": [],
   "source": [
    "def update_email(email):\n",
    "    return email.upper()\n",
    "    "
   ]
  },
  {
   "cell_type": "code",
   "execution_count": 50,
   "id": "6f756b28",
   "metadata": {},
   "outputs": [
    {
     "data": {
      "text/plain": [
       "0     DENNISBIJA@GMAIL.COM\n",
       "1    MIKEFRANCIS@GMAIL.COM\n",
       "2     ALFREDKIKY@GMAIL.COM\n",
       "Name: EMAIL_ADRESS, dtype: object"
      ]
     },
     "execution_count": 50,
     "metadata": {},
     "output_type": "execute_result"
    }
   ],
   "source": [
    "df['EMAIL_ADRESS'].apply(update_email)"
   ]
  },
  {
   "cell_type": "code",
   "execution_count": 51,
   "id": "6dacb542",
   "metadata": {},
   "outputs": [],
   "source": [
    "df['EMAIL_ADRESS'] = df['EMAIL_ADRESS'].apply(update_email)"
   ]
  },
  {
   "cell_type": "code",
   "execution_count": 52,
   "id": "ca0511ac",
   "metadata": {},
   "outputs": [
    {
     "data": {
      "text/html": [
       "<div>\n",
       "<style scoped>\n",
       "    .dataframe tbody tr th:only-of-type {\n",
       "        vertical-align: middle;\n",
       "    }\n",
       "\n",
       "    .dataframe tbody tr th {\n",
       "        vertical-align: top;\n",
       "    }\n",
       "\n",
       "    .dataframe thead th {\n",
       "        text-align: right;\n",
       "    }\n",
       "</style>\n",
       "<table border=\"1\" class=\"dataframe\">\n",
       "  <thead>\n",
       "    <tr style=\"text-align: right;\">\n",
       "      <th></th>\n",
       "      <th>EMAIL_ADRESS</th>\n",
       "      <th>First</th>\n",
       "      <th>Last</th>\n",
       "    </tr>\n",
       "  </thead>\n",
       "  <tbody>\n",
       "    <tr>\n",
       "      <th>0</th>\n",
       "      <td>DENNISBIJA@GMAIL.COM</td>\n",
       "      <td>Nate</td>\n",
       "      <td>Furry</td>\n",
       "    </tr>\n",
       "    <tr>\n",
       "      <th>1</th>\n",
       "      <td>MIKEFRANCIS@GMAIL.COM</td>\n",
       "      <td>Mike</td>\n",
       "      <td>Francis</td>\n",
       "    </tr>\n",
       "    <tr>\n",
       "      <th>2</th>\n",
       "      <td>ALFREDKIKY@GMAIL.COM</td>\n",
       "      <td>Afred</td>\n",
       "      <td>Jagaba</td>\n",
       "    </tr>\n",
       "  </tbody>\n",
       "</table>\n",
       "</div>"
      ],
      "text/plain": [
       "            EMAIL_ADRESS  First     Last\n",
       "0   DENNISBIJA@GMAIL.COM   Nate    Furry\n",
       "1  MIKEFRANCIS@GMAIL.COM   Mike  Francis\n",
       "2   ALFREDKIKY@GMAIL.COM  Afred   Jagaba"
      ]
     },
     "execution_count": 52,
     "metadata": {},
     "output_type": "execute_result"
    }
   ],
   "source": [
    "df"
   ]
  },
  {
   "cell_type": "code",
   "execution_count": 53,
   "id": "cea69e08",
   "metadata": {},
   "outputs": [],
   "source": [
    "#using the built in lambda function\n",
    "df['EMAIL_ADRESS'] = df['EMAIL_ADRESS'].apply(lambda x:x.lower())"
   ]
  },
  {
   "cell_type": "code",
   "execution_count": 54,
   "id": "993c32e1",
   "metadata": {},
   "outputs": [
    {
     "data": {
      "text/html": [
       "<div>\n",
       "<style scoped>\n",
       "    .dataframe tbody tr th:only-of-type {\n",
       "        vertical-align: middle;\n",
       "    }\n",
       "\n",
       "    .dataframe tbody tr th {\n",
       "        vertical-align: top;\n",
       "    }\n",
       "\n",
       "    .dataframe thead th {\n",
       "        text-align: right;\n",
       "    }\n",
       "</style>\n",
       "<table border=\"1\" class=\"dataframe\">\n",
       "  <thead>\n",
       "    <tr style=\"text-align: right;\">\n",
       "      <th></th>\n",
       "      <th>EMAIL_ADRESS</th>\n",
       "      <th>First</th>\n",
       "      <th>Last</th>\n",
       "    </tr>\n",
       "  </thead>\n",
       "  <tbody>\n",
       "    <tr>\n",
       "      <th>0</th>\n",
       "      <td>dennisbija@gmail.com</td>\n",
       "      <td>Nate</td>\n",
       "      <td>Furry</td>\n",
       "    </tr>\n",
       "    <tr>\n",
       "      <th>1</th>\n",
       "      <td>mikefrancis@gmail.com</td>\n",
       "      <td>Mike</td>\n",
       "      <td>Francis</td>\n",
       "    </tr>\n",
       "    <tr>\n",
       "      <th>2</th>\n",
       "      <td>alfredkiky@gmail.com</td>\n",
       "      <td>Afred</td>\n",
       "      <td>Jagaba</td>\n",
       "    </tr>\n",
       "  </tbody>\n",
       "</table>\n",
       "</div>"
      ],
      "text/plain": [
       "            EMAIL_ADRESS  First     Last\n",
       "0   dennisbija@gmail.com   Nate    Furry\n",
       "1  mikefrancis@gmail.com   Mike  Francis\n",
       "2   alfredkiky@gmail.com  Afred   Jagaba"
      ]
     },
     "execution_count": 54,
     "metadata": {},
     "output_type": "execute_result"
    }
   ],
   "source": [
    "df"
   ]
  },
  {
   "cell_type": "code",
   "execution_count": 55,
   "id": "425653a3",
   "metadata": {},
   "outputs": [
    {
     "data": {
      "text/plain": [
       "0    3\n",
       "1    3\n",
       "2    3\n",
       "dtype: int64"
      ]
     },
     "execution_count": 55,
     "metadata": {},
     "output_type": "execute_result"
    }
   ],
   "source": [
    "#using the pandas built in.apply() to call the len function\n",
    "df.apply(len, axis='columns')"
   ]
  },
  {
   "cell_type": "code",
   "execution_count": 56,
   "id": "c6c9301f",
   "metadata": {},
   "outputs": [
    {
     "data": {
      "text/plain": [
       "3"
      ]
     },
     "execution_count": 56,
     "metadata": {},
     "output_type": "execute_result"
    }
   ],
   "source": [
    "#using  the len function\n",
    "len(df['Last'])"
   ]
  },
  {
   "cell_type": "code",
   "execution_count": 57,
   "id": "c5cab58c",
   "metadata": {},
   "outputs": [
    {
     "data": {
      "text/plain": [
       "EMAIL_ADRESS    alfredkiky@gmail.com\n",
       "First                          Afred\n",
       "Last                         Francis\n",
       "dtype: object"
      ]
     },
     "execution_count": 57,
     "metadata": {},
     "output_type": "execute_result"
    }
   ],
   "source": [
    "#using the built in pandas function to call the values alphabetically\n",
    "df.apply(pd.Series.min)"
   ]
  },
  {
   "cell_type": "code",
   "execution_count": 58,
   "id": "f46c52a2",
   "metadata": {},
   "outputs": [
    {
     "data": {
      "text/plain": [
       "EMAIL_ADRESS    alfredkiky@gmail.com\n",
       "First                          Afred\n",
       "Last                         Francis\n",
       "dtype: object"
      ]
     },
     "execution_count": 58,
     "metadata": {},
     "output_type": "execute_result"
    }
   ],
   "source": [
    "#using the built in pandas function to call the values alphabetically\n",
    "df.apply(lambda x: x.min())"
   ]
  },
  {
   "cell_type": "code",
   "execution_count": 59,
   "id": "16c45bea",
   "metadata": {
    "scrolled": true
   },
   "outputs": [
    {
     "data": {
      "text/html": [
       "<div>\n",
       "<style scoped>\n",
       "    .dataframe tbody tr th:only-of-type {\n",
       "        vertical-align: middle;\n",
       "    }\n",
       "\n",
       "    .dataframe tbody tr th {\n",
       "        vertical-align: top;\n",
       "    }\n",
       "\n",
       "    .dataframe thead th {\n",
       "        text-align: right;\n",
       "    }\n",
       "</style>\n",
       "<table border=\"1\" class=\"dataframe\">\n",
       "  <thead>\n",
       "    <tr style=\"text-align: right;\">\n",
       "      <th></th>\n",
       "      <th>EMAIL_ADRESS</th>\n",
       "      <th>First</th>\n",
       "      <th>Last</th>\n",
       "    </tr>\n",
       "  </thead>\n",
       "  <tbody>\n",
       "    <tr>\n",
       "      <th>0</th>\n",
       "      <td>20</td>\n",
       "      <td>4</td>\n",
       "      <td>5</td>\n",
       "    </tr>\n",
       "    <tr>\n",
       "      <th>1</th>\n",
       "      <td>21</td>\n",
       "      <td>4</td>\n",
       "      <td>7</td>\n",
       "    </tr>\n",
       "    <tr>\n",
       "      <th>2</th>\n",
       "      <td>20</td>\n",
       "      <td>5</td>\n",
       "      <td>6</td>\n",
       "    </tr>\n",
       "  </tbody>\n",
       "</table>\n",
       "</div>"
      ],
      "text/plain": [
       "   EMAIL_ADRESS  First  Last\n",
       "0            20      4     5\n",
       "1            21      4     7\n",
       "2            20      5     6"
      ]
     },
     "execution_count": 59,
     "metadata": {},
     "output_type": "execute_result"
    }
   ],
   "source": [
    "#using the pandas built in.applymap() to call the len function. the difference between the apply() and the applymap()is that the apply() works with series only while the appy map works with the whole data frame\n",
    "df.applymap(len)"
   ]
  },
  {
   "cell_type": "code",
   "execution_count": 60,
   "id": "61c84a75",
   "metadata": {},
   "outputs": [
    {
     "data": {
      "text/html": [
       "<div>\n",
       "<style scoped>\n",
       "    .dataframe tbody tr th:only-of-type {\n",
       "        vertical-align: middle;\n",
       "    }\n",
       "\n",
       "    .dataframe tbody tr th {\n",
       "        vertical-align: top;\n",
       "    }\n",
       "\n",
       "    .dataframe thead th {\n",
       "        text-align: right;\n",
       "    }\n",
       "</style>\n",
       "<table border=\"1\" class=\"dataframe\">\n",
       "  <thead>\n",
       "    <tr style=\"text-align: right;\">\n",
       "      <th></th>\n",
       "      <th>EMAIL_ADRESS</th>\n",
       "      <th>First</th>\n",
       "      <th>Last</th>\n",
       "    </tr>\n",
       "  </thead>\n",
       "  <tbody>\n",
       "    <tr>\n",
       "      <th>0</th>\n",
       "      <td>dennisbija@gmail.com</td>\n",
       "      <td>nate</td>\n",
       "      <td>furry</td>\n",
       "    </tr>\n",
       "    <tr>\n",
       "      <th>1</th>\n",
       "      <td>mikefrancis@gmail.com</td>\n",
       "      <td>mike</td>\n",
       "      <td>francis</td>\n",
       "    </tr>\n",
       "    <tr>\n",
       "      <th>2</th>\n",
       "      <td>alfredkiky@gmail.com</td>\n",
       "      <td>afred</td>\n",
       "      <td>jagaba</td>\n",
       "    </tr>\n",
       "  </tbody>\n",
       "</table>\n",
       "</div>"
      ],
      "text/plain": [
       "            EMAIL_ADRESS  First     Last\n",
       "0   dennisbija@gmail.com   nate    furry\n",
       "1  mikefrancis@gmail.com   mike  francis\n",
       "2   alfredkiky@gmail.com  afred   jagaba"
      ]
     },
     "execution_count": 60,
     "metadata": {},
     "output_type": "execute_result"
    }
   ],
   "source": [
    "#using the pandas built in.applymap() to call the str method for converting all the values to lower\n",
    "df.applymap(str.lower)"
   ]
  },
  {
   "cell_type": "code",
   "execution_count": 61,
   "id": "9e9006fd",
   "metadata": {},
   "outputs": [
    {
     "data": {
      "text/plain": [
       "0     Dennis\n",
       "1    Micheal\n",
       "2        NaN\n",
       "Name: First, dtype: object"
      ]
     },
     "execution_count": 61,
     "metadata": {},
     "output_type": "execute_result"
    }
   ],
   "source": [
    "#using the builtin map method to replace values in a series the map method only works with series\n",
    "df['First'].map({'Nate':'Dennis', 'Mike': 'Micheal'})"
   ]
  },
  {
   "cell_type": "code",
   "execution_count": 62,
   "id": "7c858de4",
   "metadata": {},
   "outputs": [
    {
     "data": {
      "text/plain": [
       "0     Dennis\n",
       "1    Micheal\n",
       "2      Afred\n",
       "Name: First, dtype: object"
      ]
     },
     "execution_count": 62,
     "metadata": {},
     "output_type": "execute_result"
    }
   ],
   "source": [
    "#using the builtin map method to replace values in a series \n",
    "df['First'].replace({'Nate':'Dennis', 'Mike': 'Micheal'})"
   ]
  },
  {
   "cell_type": "code",
   "execution_count": 63,
   "id": "78fb6496",
   "metadata": {},
   "outputs": [],
   "source": [
    "#adding rows and columns\n",
    "df['Full_Name'] = df ['First'] + ' ' + df['Last']"
   ]
  },
  {
   "cell_type": "code",
   "execution_count": 64,
   "id": "b9e70113",
   "metadata": {},
   "outputs": [
    {
     "data": {
      "text/html": [
       "<div>\n",
       "<style scoped>\n",
       "    .dataframe tbody tr th:only-of-type {\n",
       "        vertical-align: middle;\n",
       "    }\n",
       "\n",
       "    .dataframe tbody tr th {\n",
       "        vertical-align: top;\n",
       "    }\n",
       "\n",
       "    .dataframe thead th {\n",
       "        text-align: right;\n",
       "    }\n",
       "</style>\n",
       "<table border=\"1\" class=\"dataframe\">\n",
       "  <thead>\n",
       "    <tr style=\"text-align: right;\">\n",
       "      <th></th>\n",
       "      <th>EMAIL_ADRESS</th>\n",
       "      <th>First</th>\n",
       "      <th>Last</th>\n",
       "      <th>Full_Name</th>\n",
       "    </tr>\n",
       "  </thead>\n",
       "  <tbody>\n",
       "    <tr>\n",
       "      <th>0</th>\n",
       "      <td>dennisbija@gmail.com</td>\n",
       "      <td>Nate</td>\n",
       "      <td>Furry</td>\n",
       "      <td>Nate Furry</td>\n",
       "    </tr>\n",
       "    <tr>\n",
       "      <th>1</th>\n",
       "      <td>mikefrancis@gmail.com</td>\n",
       "      <td>Mike</td>\n",
       "      <td>Francis</td>\n",
       "      <td>Mike Francis</td>\n",
       "    </tr>\n",
       "    <tr>\n",
       "      <th>2</th>\n",
       "      <td>alfredkiky@gmail.com</td>\n",
       "      <td>Afred</td>\n",
       "      <td>Jagaba</td>\n",
       "      <td>Afred Jagaba</td>\n",
       "    </tr>\n",
       "  </tbody>\n",
       "</table>\n",
       "</div>"
      ],
      "text/plain": [
       "            EMAIL_ADRESS  First     Last     Full_Name\n",
       "0   dennisbija@gmail.com   Nate    Furry    Nate Furry\n",
       "1  mikefrancis@gmail.com   Mike  Francis  Mike Francis\n",
       "2   alfredkiky@gmail.com  Afred   Jagaba  Afred Jagaba"
      ]
     },
     "execution_count": 64,
     "metadata": {},
     "output_type": "execute_result"
    }
   ],
   "source": [
    "df"
   ]
  },
  {
   "cell_type": "code",
   "execution_count": 65,
   "id": "ae7ab17c",
   "metadata": {},
   "outputs": [],
   "source": [
    "#removing columns\n",
    "df.drop(columns = ['First','Last'], inplace=True)"
   ]
  },
  {
   "cell_type": "code",
   "execution_count": 66,
   "id": "fa0bc8db",
   "metadata": {},
   "outputs": [
    {
     "data": {
      "text/html": [
       "<div>\n",
       "<style scoped>\n",
       "    .dataframe tbody tr th:only-of-type {\n",
       "        vertical-align: middle;\n",
       "    }\n",
       "\n",
       "    .dataframe tbody tr th {\n",
       "        vertical-align: top;\n",
       "    }\n",
       "\n",
       "    .dataframe thead th {\n",
       "        text-align: right;\n",
       "    }\n",
       "</style>\n",
       "<table border=\"1\" class=\"dataframe\">\n",
       "  <thead>\n",
       "    <tr style=\"text-align: right;\">\n",
       "      <th></th>\n",
       "      <th>0</th>\n",
       "      <th>1</th>\n",
       "    </tr>\n",
       "  </thead>\n",
       "  <tbody>\n",
       "    <tr>\n",
       "      <th>0</th>\n",
       "      <td>Nate</td>\n",
       "      <td>Furry</td>\n",
       "    </tr>\n",
       "    <tr>\n",
       "      <th>1</th>\n",
       "      <td>Mike</td>\n",
       "      <td>Francis</td>\n",
       "    </tr>\n",
       "    <tr>\n",
       "      <th>2</th>\n",
       "      <td>Afred</td>\n",
       "      <td>Jagaba</td>\n",
       "    </tr>\n",
       "  </tbody>\n",
       "</table>\n",
       "</div>"
      ],
      "text/plain": [
       "       0        1\n",
       "0   Nate    Furry\n",
       "1   Mike  Francis\n",
       "2  Afred   Jagaba"
      ]
     },
     "execution_count": 66,
     "metadata": {},
     "output_type": "execute_result"
    }
   ],
   "source": [
    "#using the spilt ton split the full name into first and last\n",
    "df['Full_Name'].str.split(' ', expand = True)"
   ]
  },
  {
   "cell_type": "code",
   "execution_count": 67,
   "id": "ece0a21a",
   "metadata": {},
   "outputs": [],
   "source": [
    "#spliting the first and the last column and assigning them to a seprate fullname column\n",
    "df[['first', 'last']] = df['Full_Name'].str.split(' ', expand = True)"
   ]
  },
  {
   "cell_type": "code",
   "execution_count": 68,
   "id": "c5992861",
   "metadata": {},
   "outputs": [
    {
     "name": "stderr",
     "output_type": "stream",
     "text": [
      "C:\\Users\\USER\\AppData\\Local\\Temp\\ipykernel_13700\\2394211687.py:2: FutureWarning: The frame.append method is deprecated and will be removed from pandas in a future version. Use pandas.concat instead.\n",
      "  df.append({'first' : 'Daniel'}, ignore_index=True)\n"
     ]
    },
    {
     "data": {
      "text/html": [
       "<div>\n",
       "<style scoped>\n",
       "    .dataframe tbody tr th:only-of-type {\n",
       "        vertical-align: middle;\n",
       "    }\n",
       "\n",
       "    .dataframe tbody tr th {\n",
       "        vertical-align: top;\n",
       "    }\n",
       "\n",
       "    .dataframe thead th {\n",
       "        text-align: right;\n",
       "    }\n",
       "</style>\n",
       "<table border=\"1\" class=\"dataframe\">\n",
       "  <thead>\n",
       "    <tr style=\"text-align: right;\">\n",
       "      <th></th>\n",
       "      <th>EMAIL_ADRESS</th>\n",
       "      <th>Full_Name</th>\n",
       "      <th>first</th>\n",
       "      <th>last</th>\n",
       "    </tr>\n",
       "  </thead>\n",
       "  <tbody>\n",
       "    <tr>\n",
       "      <th>0</th>\n",
       "      <td>dennisbija@gmail.com</td>\n",
       "      <td>Nate Furry</td>\n",
       "      <td>Nate</td>\n",
       "      <td>Furry</td>\n",
       "    </tr>\n",
       "    <tr>\n",
       "      <th>1</th>\n",
       "      <td>mikefrancis@gmail.com</td>\n",
       "      <td>Mike Francis</td>\n",
       "      <td>Mike</td>\n",
       "      <td>Francis</td>\n",
       "    </tr>\n",
       "    <tr>\n",
       "      <th>2</th>\n",
       "      <td>alfredkiky@gmail.com</td>\n",
       "      <td>Afred Jagaba</td>\n",
       "      <td>Afred</td>\n",
       "      <td>Jagaba</td>\n",
       "    </tr>\n",
       "    <tr>\n",
       "      <th>3</th>\n",
       "      <td>NaN</td>\n",
       "      <td>NaN</td>\n",
       "      <td>Daniel</td>\n",
       "      <td>NaN</td>\n",
       "    </tr>\n",
       "  </tbody>\n",
       "</table>\n",
       "</div>"
      ],
      "text/plain": [
       "            EMAIL_ADRESS     Full_Name   first     last\n",
       "0   dennisbija@gmail.com    Nate Furry    Nate    Furry\n",
       "1  mikefrancis@gmail.com  Mike Francis    Mike  Francis\n",
       "2   alfredkiky@gmail.com  Afred Jagaba   Afred   Jagaba\n",
       "3                    NaN           NaN  Daniel      NaN"
      ]
     },
     "execution_count": 68,
     "metadata": {},
     "output_type": "execute_result"
    }
   ],
   "source": [
    "#adding rows and column to our dataframe\n",
    "df.append({'first' : 'Daniel'}, ignore_index=True)"
   ]
  },
  {
   "cell_type": "code",
   "execution_count": 94,
   "id": "ee391172",
   "metadata": {},
   "outputs": [],
   "source": [
    "#creating a list of friends with email\n",
    "people = {\n",
    "    'first' : ['Daniel','Matthew'],\n",
    "    'last'  : ['Emeka','Bijah'],\n",
    "    'email' : ['daniel@gmail.com','matthew@gmail.com']\n",
    "}"
   ]
  },
  {
   "cell_type": "code",
   "execution_count": 97,
   "id": "a6348cbf",
   "metadata": {},
   "outputs": [],
   "source": [
    "#using pandas to convert the table to dataframe\n",
    "df2 = pd.DataFrame(people)"
   ]
  },
  {
   "cell_type": "code",
   "execution_count": 72,
   "id": "e615a0cc",
   "metadata": {},
   "outputs": [
    {
     "name": "stderr",
     "output_type": "stream",
     "text": [
      "C:\\Users\\USER\\AppData\\Local\\Temp\\ipykernel_13700\\2864212717.py:2: FutureWarning: The frame.append method is deprecated and will be removed from pandas in a future version. Use pandas.concat instead.\n",
      "  df.append(df2, ignore_index=True, sort = False)\n"
     ]
    },
    {
     "data": {
      "text/html": [
       "<div>\n",
       "<style scoped>\n",
       "    .dataframe tbody tr th:only-of-type {\n",
       "        vertical-align: middle;\n",
       "    }\n",
       "\n",
       "    .dataframe tbody tr th {\n",
       "        vertical-align: top;\n",
       "    }\n",
       "\n",
       "    .dataframe thead th {\n",
       "        text-align: right;\n",
       "    }\n",
       "</style>\n",
       "<table border=\"1\" class=\"dataframe\">\n",
       "  <thead>\n",
       "    <tr style=\"text-align: right;\">\n",
       "      <th></th>\n",
       "      <th>EMAIL_ADRESS</th>\n",
       "      <th>Full_Name</th>\n",
       "      <th>first</th>\n",
       "      <th>last</th>\n",
       "      <th>email</th>\n",
       "    </tr>\n",
       "  </thead>\n",
       "  <tbody>\n",
       "    <tr>\n",
       "      <th>0</th>\n",
       "      <td>dennisbija@gmail.com</td>\n",
       "      <td>Nate Furry</td>\n",
       "      <td>Nate</td>\n",
       "      <td>Furry</td>\n",
       "      <td>NaN</td>\n",
       "    </tr>\n",
       "    <tr>\n",
       "      <th>1</th>\n",
       "      <td>mikefrancis@gmail.com</td>\n",
       "      <td>Mike Francis</td>\n",
       "      <td>Mike</td>\n",
       "      <td>Francis</td>\n",
       "      <td>NaN</td>\n",
       "    </tr>\n",
       "    <tr>\n",
       "      <th>2</th>\n",
       "      <td>alfredkiky@gmail.com</td>\n",
       "      <td>Afred Jagaba</td>\n",
       "      <td>Afred</td>\n",
       "      <td>Jagaba</td>\n",
       "      <td>NaN</td>\n",
       "    </tr>\n",
       "    <tr>\n",
       "      <th>3</th>\n",
       "      <td>NaN</td>\n",
       "      <td>NaN</td>\n",
       "      <td>Daniel</td>\n",
       "      <td>Emeka</td>\n",
       "      <td>daniel@gmail.com</td>\n",
       "    </tr>\n",
       "    <tr>\n",
       "      <th>4</th>\n",
       "      <td>NaN</td>\n",
       "      <td>NaN</td>\n",
       "      <td>Matthew</td>\n",
       "      <td>Bijah</td>\n",
       "      <td>matthew@gmail.com</td>\n",
       "    </tr>\n",
       "  </tbody>\n",
       "</table>\n",
       "</div>"
      ],
      "text/plain": [
       "            EMAIL_ADRESS     Full_Name    first     last              email\n",
       "0   dennisbija@gmail.com    Nate Furry     Nate    Furry                NaN\n",
       "1  mikefrancis@gmail.com  Mike Francis     Mike  Francis                NaN\n",
       "2   alfredkiky@gmail.com  Afred Jagaba    Afred   Jagaba                NaN\n",
       "3                    NaN           NaN   Daniel    Emeka   daniel@gmail.com\n",
       "4                    NaN           NaN  Matthew    Bijah  matthew@gmail.com"
      ]
     },
     "execution_count": 72,
     "metadata": {},
     "output_type": "execute_result"
    }
   ],
   "source": [
    "#adding the new dictionary together with the old one\n",
    "df.append(df2, ignore_index=True, sort = False)"
   ]
  },
  {
   "cell_type": "code",
   "execution_count": 73,
   "id": "a4611c86",
   "metadata": {},
   "outputs": [
    {
     "name": "stderr",
     "output_type": "stream",
     "text": [
      "C:\\Users\\USER\\AppData\\Local\\Temp\\ipykernel_13700\\2517880801.py:1: FutureWarning: The frame.append method is deprecated and will be removed from pandas in a future version. Use pandas.concat instead.\n",
      "  df = df.append(df2, ignore_index=True, sort = False)\n"
     ]
    }
   ],
   "source": [
    "df = df.append(df2, ignore_index=True, sort = False)"
   ]
  },
  {
   "cell_type": "code",
   "execution_count": 74,
   "id": "287c5770",
   "metadata": {},
   "outputs": [
    {
     "data": {
      "text/html": [
       "<div>\n",
       "<style scoped>\n",
       "    .dataframe tbody tr th:only-of-type {\n",
       "        vertical-align: middle;\n",
       "    }\n",
       "\n",
       "    .dataframe tbody tr th {\n",
       "        vertical-align: top;\n",
       "    }\n",
       "\n",
       "    .dataframe thead th {\n",
       "        text-align: right;\n",
       "    }\n",
       "</style>\n",
       "<table border=\"1\" class=\"dataframe\">\n",
       "  <thead>\n",
       "    <tr style=\"text-align: right;\">\n",
       "      <th></th>\n",
       "      <th>EMAIL_ADRESS</th>\n",
       "      <th>Full_Name</th>\n",
       "      <th>first</th>\n",
       "      <th>last</th>\n",
       "      <th>email</th>\n",
       "    </tr>\n",
       "  </thead>\n",
       "  <tbody>\n",
       "    <tr>\n",
       "      <th>0</th>\n",
       "      <td>dennisbija@gmail.com</td>\n",
       "      <td>Nate Furry</td>\n",
       "      <td>Nate</td>\n",
       "      <td>Furry</td>\n",
       "      <td>NaN</td>\n",
       "    </tr>\n",
       "    <tr>\n",
       "      <th>1</th>\n",
       "      <td>mikefrancis@gmail.com</td>\n",
       "      <td>Mike Francis</td>\n",
       "      <td>Mike</td>\n",
       "      <td>Francis</td>\n",
       "      <td>NaN</td>\n",
       "    </tr>\n",
       "    <tr>\n",
       "      <th>2</th>\n",
       "      <td>alfredkiky@gmail.com</td>\n",
       "      <td>Afred Jagaba</td>\n",
       "      <td>Afred</td>\n",
       "      <td>Jagaba</td>\n",
       "      <td>NaN</td>\n",
       "    </tr>\n",
       "    <tr>\n",
       "      <th>3</th>\n",
       "      <td>NaN</td>\n",
       "      <td>NaN</td>\n",
       "      <td>Daniel</td>\n",
       "      <td>Emeka</td>\n",
       "      <td>daniel@gmail.com</td>\n",
       "    </tr>\n",
       "    <tr>\n",
       "      <th>4</th>\n",
       "      <td>NaN</td>\n",
       "      <td>NaN</td>\n",
       "      <td>Matthew</td>\n",
       "      <td>Bijah</td>\n",
       "      <td>matthew@gmail.com</td>\n",
       "    </tr>\n",
       "  </tbody>\n",
       "</table>\n",
       "</div>"
      ],
      "text/plain": [
       "            EMAIL_ADRESS     Full_Name    first     last              email\n",
       "0   dennisbija@gmail.com    Nate Furry     Nate    Furry                NaN\n",
       "1  mikefrancis@gmail.com  Mike Francis     Mike  Francis                NaN\n",
       "2   alfredkiky@gmail.com  Afred Jagaba    Afred   Jagaba                NaN\n",
       "3                    NaN           NaN   Daniel    Emeka   daniel@gmail.com\n",
       "4                    NaN           NaN  Matthew    Bijah  matthew@gmail.com"
      ]
     },
     "execution_count": 74,
     "metadata": {},
     "output_type": "execute_result"
    }
   ],
   "source": [
    "df"
   ]
  },
  {
   "cell_type": "code",
   "execution_count": 75,
   "id": "ad4240c9",
   "metadata": {},
   "outputs": [
    {
     "data": {
      "text/html": [
       "<div>\n",
       "<style scoped>\n",
       "    .dataframe tbody tr th:only-of-type {\n",
       "        vertical-align: middle;\n",
       "    }\n",
       "\n",
       "    .dataframe tbody tr th {\n",
       "        vertical-align: top;\n",
       "    }\n",
       "\n",
       "    .dataframe thead th {\n",
       "        text-align: right;\n",
       "    }\n",
       "</style>\n",
       "<table border=\"1\" class=\"dataframe\">\n",
       "  <thead>\n",
       "    <tr style=\"text-align: right;\">\n",
       "      <th></th>\n",
       "      <th>EMAIL_ADRESS</th>\n",
       "      <th>Full_Name</th>\n",
       "      <th>first</th>\n",
       "      <th>last</th>\n",
       "      <th>email</th>\n",
       "    </tr>\n",
       "  </thead>\n",
       "  <tbody>\n",
       "    <tr>\n",
       "      <th>0</th>\n",
       "      <td>dennisbija@gmail.com</td>\n",
       "      <td>Nate Furry</td>\n",
       "      <td>Nate</td>\n",
       "      <td>Furry</td>\n",
       "      <td>NaN</td>\n",
       "    </tr>\n",
       "    <tr>\n",
       "      <th>1</th>\n",
       "      <td>mikefrancis@gmail.com</td>\n",
       "      <td>Mike Francis</td>\n",
       "      <td>Mike</td>\n",
       "      <td>Francis</td>\n",
       "      <td>NaN</td>\n",
       "    </tr>\n",
       "    <tr>\n",
       "      <th>2</th>\n",
       "      <td>alfredkiky@gmail.com</td>\n",
       "      <td>Afred Jagaba</td>\n",
       "      <td>Afred</td>\n",
       "      <td>Jagaba</td>\n",
       "      <td>NaN</td>\n",
       "    </tr>\n",
       "    <tr>\n",
       "      <th>4</th>\n",
       "      <td>NaN</td>\n",
       "      <td>NaN</td>\n",
       "      <td>Matthew</td>\n",
       "      <td>Bijah</td>\n",
       "      <td>matthew@gmail.com</td>\n",
       "    </tr>\n",
       "  </tbody>\n",
       "</table>\n",
       "</div>"
      ],
      "text/plain": [
       "            EMAIL_ADRESS     Full_Name    first     last              email\n",
       "0   dennisbija@gmail.com    Nate Furry     Nate    Furry                NaN\n",
       "1  mikefrancis@gmail.com  Mike Francis     Mike  Francis                NaN\n",
       "2   alfredkiky@gmail.com  Afred Jagaba    Afred   Jagaba                NaN\n",
       "4                    NaN           NaN  Matthew    Bijah  matthew@gmail.com"
      ]
     },
     "execution_count": 75,
     "metadata": {},
     "output_type": "execute_result"
    }
   ],
   "source": [
    "#deleting the row with the index number 3\n",
    "df.drop(index = 3)"
   ]
  },
  {
   "cell_type": "code",
   "execution_count": 76,
   "id": "912ef60a",
   "metadata": {},
   "outputs": [
    {
     "data": {
      "text/html": [
       "<div>\n",
       "<style scoped>\n",
       "    .dataframe tbody tr th:only-of-type {\n",
       "        vertical-align: middle;\n",
       "    }\n",
       "\n",
       "    .dataframe tbody tr th {\n",
       "        vertical-align: top;\n",
       "    }\n",
       "\n",
       "    .dataframe thead th {\n",
       "        text-align: right;\n",
       "    }\n",
       "</style>\n",
       "<table border=\"1\" class=\"dataframe\">\n",
       "  <thead>\n",
       "    <tr style=\"text-align: right;\">\n",
       "      <th></th>\n",
       "      <th>EMAIL_ADRESS</th>\n",
       "      <th>Full_Name</th>\n",
       "      <th>first</th>\n",
       "      <th>last</th>\n",
       "      <th>email</th>\n",
       "    </tr>\n",
       "  </thead>\n",
       "  <tbody>\n",
       "    <tr>\n",
       "      <th>0</th>\n",
       "      <td>dennisbija@gmail.com</td>\n",
       "      <td>Nate Furry</td>\n",
       "      <td>Nate</td>\n",
       "      <td>Furry</td>\n",
       "      <td>NaN</td>\n",
       "    </tr>\n",
       "    <tr>\n",
       "      <th>1</th>\n",
       "      <td>mikefrancis@gmail.com</td>\n",
       "      <td>Mike Francis</td>\n",
       "      <td>Mike</td>\n",
       "      <td>Francis</td>\n",
       "      <td>NaN</td>\n",
       "    </tr>\n",
       "    <tr>\n",
       "      <th>4</th>\n",
       "      <td>NaN</td>\n",
       "      <td>NaN</td>\n",
       "      <td>Matthew</td>\n",
       "      <td>Bijah</td>\n",
       "      <td>matthew@gmail.com</td>\n",
       "    </tr>\n",
       "    <tr>\n",
       "      <th>3</th>\n",
       "      <td>NaN</td>\n",
       "      <td>NaN</td>\n",
       "      <td>Daniel</td>\n",
       "      <td>Emeka</td>\n",
       "      <td>daniel@gmail.com</td>\n",
       "    </tr>\n",
       "    <tr>\n",
       "      <th>2</th>\n",
       "      <td>alfredkiky@gmail.com</td>\n",
       "      <td>Afred Jagaba</td>\n",
       "      <td>Afred</td>\n",
       "      <td>Jagaba</td>\n",
       "      <td>NaN</td>\n",
       "    </tr>\n",
       "  </tbody>\n",
       "</table>\n",
       "</div>"
      ],
      "text/plain": [
       "            EMAIL_ADRESS     Full_Name    first     last              email\n",
       "0   dennisbija@gmail.com    Nate Furry     Nate    Furry                NaN\n",
       "1  mikefrancis@gmail.com  Mike Francis     Mike  Francis                NaN\n",
       "4                    NaN           NaN  Matthew    Bijah  matthew@gmail.com\n",
       "3                    NaN           NaN   Daniel    Emeka   daniel@gmail.com\n",
       "2   alfredkiky@gmail.com  Afred Jagaba    Afred   Jagaba                NaN"
      ]
     },
     "execution_count": 76,
     "metadata": {},
     "output_type": "execute_result"
    }
   ],
   "source": [
    "#sorting values by the first and last name in descending order\n",
    "df.sort_values (by=['first',\"last\"],ascending=False )"
   ]
  },
  {
   "cell_type": "code",
   "execution_count": 77,
   "id": "7162fab4",
   "metadata": {},
   "outputs": [
    {
     "data": {
      "text/html": [
       "<div>\n",
       "<style scoped>\n",
       "    .dataframe tbody tr th:only-of-type {\n",
       "        vertical-align: middle;\n",
       "    }\n",
       "\n",
       "    .dataframe tbody tr th {\n",
       "        vertical-align: top;\n",
       "    }\n",
       "\n",
       "    .dataframe thead th {\n",
       "        text-align: right;\n",
       "    }\n",
       "</style>\n",
       "<table border=\"1\" class=\"dataframe\">\n",
       "  <thead>\n",
       "    <tr style=\"text-align: right;\">\n",
       "      <th></th>\n",
       "      <th>EMAIL_ADRESS</th>\n",
       "      <th>Full_Name</th>\n",
       "      <th>first</th>\n",
       "      <th>last</th>\n",
       "      <th>email</th>\n",
       "    </tr>\n",
       "  </thead>\n",
       "  <tbody>\n",
       "    <tr>\n",
       "      <th>0</th>\n",
       "      <td>dennisbija@gmail.com</td>\n",
       "      <td>Nate Furry</td>\n",
       "      <td>Nate</td>\n",
       "      <td>Furry</td>\n",
       "      <td>NaN</td>\n",
       "    </tr>\n",
       "    <tr>\n",
       "      <th>1</th>\n",
       "      <td>mikefrancis@gmail.com</td>\n",
       "      <td>Mike Francis</td>\n",
       "      <td>Mike</td>\n",
       "      <td>Francis</td>\n",
       "      <td>NaN</td>\n",
       "    </tr>\n",
       "    <tr>\n",
       "      <th>2</th>\n",
       "      <td>alfredkiky@gmail.com</td>\n",
       "      <td>Afred Jagaba</td>\n",
       "      <td>Afred</td>\n",
       "      <td>Jagaba</td>\n",
       "      <td>NaN</td>\n",
       "    </tr>\n",
       "    <tr>\n",
       "      <th>3</th>\n",
       "      <td>NaN</td>\n",
       "      <td>NaN</td>\n",
       "      <td>Daniel</td>\n",
       "      <td>Emeka</td>\n",
       "      <td>daniel@gmail.com</td>\n",
       "    </tr>\n",
       "    <tr>\n",
       "      <th>4</th>\n",
       "      <td>NaN</td>\n",
       "      <td>NaN</td>\n",
       "      <td>Matthew</td>\n",
       "      <td>Bijah</td>\n",
       "      <td>matthew@gmail.com</td>\n",
       "    </tr>\n",
       "  </tbody>\n",
       "</table>\n",
       "</div>"
      ],
      "text/plain": [
       "            EMAIL_ADRESS     Full_Name    first     last              email\n",
       "0   dennisbija@gmail.com    Nate Furry     Nate    Furry                NaN\n",
       "1  mikefrancis@gmail.com  Mike Francis     Mike  Francis                NaN\n",
       "2   alfredkiky@gmail.com  Afred Jagaba    Afred   Jagaba                NaN\n",
       "3                    NaN           NaN   Daniel    Emeka   daniel@gmail.com\n",
       "4                    NaN           NaN  Matthew    Bijah  matthew@gmail.com"
      ]
     },
     "execution_count": 77,
     "metadata": {},
     "output_type": "execute_result"
    }
   ],
   "source": [
    "df"
   ]
  },
  {
   "cell_type": "code",
   "execution_count": null,
   "id": "8009820e",
   "metadata": {},
   "outputs": [],
   "source": []
  }
 ],
 "metadata": {
  "kernelspec": {
   "display_name": "Python 3 (ipykernel)",
   "language": "python",
   "name": "python3"
  },
  "language_info": {
   "codemirror_mode": {
    "name": "ipython",
    "version": 3
   },
   "file_extension": ".py",
   "mimetype": "text/x-python",
   "name": "python",
   "nbconvert_exporter": "python",
   "pygments_lexer": "ipython3",
   "version": "3.9.12"
  }
 },
 "nbformat": 4,
 "nbformat_minor": 5
}
